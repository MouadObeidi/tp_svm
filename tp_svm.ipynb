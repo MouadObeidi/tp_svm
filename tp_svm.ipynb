{
 "cells": [
  {
   "cell_type": "code",
   "execution_count": 1,
   "metadata": {},
   "outputs": [],
   "source": [
    "import numpy as np\n",
    "import matplotlib.pyplot as plt\n",
    "import matplotlib as mpl\n",
    "mpl.style.use(\"ggplot\")"
   ]
  },
  {
   "cell_type": "code",
   "execution_count": 2,
   "metadata": {},
   "outputs": [],
   "source": [
    "from sklearn.svm import SVC\n",
    "from sklearn.datasets import load_iris\n",
    "from sklearn.model_selection import train_test_split, KFold"
   ]
  },
  {
   "cell_type": "code",
   "execution_count": 3,
   "metadata": {},
   "outputs": [],
   "source": [
    "data = load_iris()\n",
    "X, y = data.data, data.target"
   ]
  },
  {
   "cell_type": "code",
   "execution_count": 4,
   "metadata": {},
   "outputs": [],
   "source": [
    "# train test split\n",
    "X_train, X_test,  y_train, y_test = train_test_split(X,y,train_size=100, shuffle=True, random_state=42)"
   ]
  },
  {
   "cell_type": "code",
   "execution_count": 5,
   "metadata": {},
   "outputs": [
    {
     "data": {
      "text/html": [
       "<style>#sk-container-id-1 {color: black;}#sk-container-id-1 pre{padding: 0;}#sk-container-id-1 div.sk-toggleable {background-color: white;}#sk-container-id-1 label.sk-toggleable__label {cursor: pointer;display: block;width: 100%;margin-bottom: 0;padding: 0.3em;box-sizing: border-box;text-align: center;}#sk-container-id-1 label.sk-toggleable__label-arrow:before {content: \"▸\";float: left;margin-right: 0.25em;color: #696969;}#sk-container-id-1 label.sk-toggleable__label-arrow:hover:before {color: black;}#sk-container-id-1 div.sk-estimator:hover label.sk-toggleable__label-arrow:before {color: black;}#sk-container-id-1 div.sk-toggleable__content {max-height: 0;max-width: 0;overflow: hidden;text-align: left;background-color: #f0f8ff;}#sk-container-id-1 div.sk-toggleable__content pre {margin: 0.2em;color: black;border-radius: 0.25em;background-color: #f0f8ff;}#sk-container-id-1 input.sk-toggleable__control:checked~div.sk-toggleable__content {max-height: 200px;max-width: 100%;overflow: auto;}#sk-container-id-1 input.sk-toggleable__control:checked~label.sk-toggleable__label-arrow:before {content: \"▾\";}#sk-container-id-1 div.sk-estimator input.sk-toggleable__control:checked~label.sk-toggleable__label {background-color: #d4ebff;}#sk-container-id-1 div.sk-label input.sk-toggleable__control:checked~label.sk-toggleable__label {background-color: #d4ebff;}#sk-container-id-1 input.sk-hidden--visually {border: 0;clip: rect(1px 1px 1px 1px);clip: rect(1px, 1px, 1px, 1px);height: 1px;margin: -1px;overflow: hidden;padding: 0;position: absolute;width: 1px;}#sk-container-id-1 div.sk-estimator {font-family: monospace;background-color: #f0f8ff;border: 1px dotted black;border-radius: 0.25em;box-sizing: border-box;margin-bottom: 0.5em;}#sk-container-id-1 div.sk-estimator:hover {background-color: #d4ebff;}#sk-container-id-1 div.sk-parallel-item::after {content: \"\";width: 100%;border-bottom: 1px solid gray;flex-grow: 1;}#sk-container-id-1 div.sk-label:hover label.sk-toggleable__label {background-color: #d4ebff;}#sk-container-id-1 div.sk-serial::before {content: \"\";position: absolute;border-left: 1px solid gray;box-sizing: border-box;top: 0;bottom: 0;left: 50%;z-index: 0;}#sk-container-id-1 div.sk-serial {display: flex;flex-direction: column;align-items: center;background-color: white;padding-right: 0.2em;padding-left: 0.2em;position: relative;}#sk-container-id-1 div.sk-item {position: relative;z-index: 1;}#sk-container-id-1 div.sk-parallel {display: flex;align-items: stretch;justify-content: center;background-color: white;position: relative;}#sk-container-id-1 div.sk-item::before, #sk-container-id-1 div.sk-parallel-item::before {content: \"\";position: absolute;border-left: 1px solid gray;box-sizing: border-box;top: 0;bottom: 0;left: 50%;z-index: -1;}#sk-container-id-1 div.sk-parallel-item {display: flex;flex-direction: column;z-index: 1;position: relative;background-color: white;}#sk-container-id-1 div.sk-parallel-item:first-child::after {align-self: flex-end;width: 50%;}#sk-container-id-1 div.sk-parallel-item:last-child::after {align-self: flex-start;width: 50%;}#sk-container-id-1 div.sk-parallel-item:only-child::after {width: 0;}#sk-container-id-1 div.sk-dashed-wrapped {border: 1px dashed gray;margin: 0 0.4em 0.5em 0.4em;box-sizing: border-box;padding-bottom: 0.4em;background-color: white;}#sk-container-id-1 div.sk-label label {font-family: monospace;font-weight: bold;display: inline-block;line-height: 1.2em;}#sk-container-id-1 div.sk-label-container {text-align: center;}#sk-container-id-1 div.sk-container {/* jupyter's `normalize.less` sets `[hidden] { display: none; }` but bootstrap.min.css set `[hidden] { display: none !important; }` so we also need the `!important` here to be able to override the default hidden behavior on the sphinx rendered scikit-learn.org. See: https://github.com/scikit-learn/scikit-learn/issues/21755 */display: inline-block !important;position: relative;}#sk-container-id-1 div.sk-text-repr-fallback {display: none;}</style><div id=\"sk-container-id-1\" class=\"sk-top-container\"><div class=\"sk-text-repr-fallback\"><pre>SVC()</pre><b>In a Jupyter environment, please rerun this cell to show the HTML representation or trust the notebook. <br />On GitHub, the HTML representation is unable to render, please try loading this page with nbviewer.org.</b></div><div class=\"sk-container\" hidden><div class=\"sk-item\"><div class=\"sk-estimator sk-toggleable\"><input class=\"sk-toggleable__control sk-hidden--visually\" id=\"sk-estimator-id-1\" type=\"checkbox\" checked><label for=\"sk-estimator-id-1\" class=\"sk-toggleable__label sk-toggleable__label-arrow\">SVC</label><div class=\"sk-toggleable__content\"><pre>SVC()</pre></div></div></div></div></div>"
      ],
      "text/plain": [
       "SVC()"
      ]
     },
     "execution_count": 5,
     "metadata": {},
     "output_type": "execute_result"
    }
   ],
   "source": [
    "# classifier\n",
    "clf = SVC()\n",
    "clf.fit(X_train, y_train)"
   ]
  },
  {
   "cell_type": "code",
   "execution_count": 6,
   "metadata": {},
   "outputs": [
    {
     "name": "stdout",
     "output_type": "stream",
     "text": [
      "train_score  = 0.96\n",
      "test score =  1.0\n"
     ]
    }
   ],
   "source": [
    "from sklearn.metrics import accuracy_score, precision_score, recall_score\n",
    "print(\"train_score  =\", clf.score(X_train, y_train))\n",
    "print(\"test score = \",clf.score(X_test, y_test))"
   ]
  },
  {
   "cell_type": "code",
   "execution_count": 7,
   "metadata": {},
   "outputs": [],
   "source": [
    "\n",
    "# compuute precision and recall\n",
    "y_pred = clf.predict(X_test)"
   ]
  },
  {
   "cell_type": "code",
   "execution_count": 8,
   "metadata": {},
   "outputs": [
    {
     "data": {
      "text/plain": [
       "{'O': 1.0, '1': 1.0, '2': 1.0}"
      ]
     },
     "execution_count": 8,
     "metadata": {},
     "output_type": "execute_result"
    }
   ],
   "source": [
    "n = y_test.shape[0]\n",
    "def precision(label):\n",
    "    return len([i for i in range(n) if y_pred[i] ==label and y_test[i] == label])/ len([ i for i in range(n) if y_pred[i] == label ])\n",
    "precisions = {\n",
    "    \"O\" : precision(0),\n",
    "    \"1\" : precision(1),\n",
    "    \"2\" : precision(2)\n",
    "}\n",
    "precisions"
   ]
  },
  {
   "cell_type": "code",
   "execution_count": 9,
   "metadata": {},
   "outputs": [
    {
     "data": {
      "text/plain": [
       "{'O': 1.0, '1': 1.0, '2': 1.0}"
      ]
     },
     "execution_count": 9,
     "metadata": {},
     "output_type": "execute_result"
    }
   ],
   "source": [
    "def recall(label):\n",
    "    return len([i for i in range(n) if y_pred[i] ==label and y_test[i] == label])/ len([ i for i in range(n) if y_test[i] == label ])\n",
    "recalls = {\n",
    "    \"O\" : recall(0),\n",
    "    \"1\" : recall(1),\n",
    "    \"2\" : recall(2)\n",
    "}\n",
    "recalls"
   ]
  },
  {
   "cell_type": "code",
   "execution_count": 10,
   "metadata": {},
   "outputs": [
    {
     "name": "stdout",
     "output_type": "stream",
     "text": [
      "('              precision    recall  f1-score   support\\n'\n",
      " '\\n'\n",
      " '           0       1.00      1.00      1.00        19\\n'\n",
      " '           1       1.00      1.00      1.00        15\\n'\n",
      " '           2       1.00      1.00      1.00        16\\n'\n",
      " '\\n'\n",
      " '    accuracy                           1.00        50\\n'\n",
      " '   macro avg       1.00      1.00      1.00        50\\n'\n",
      " 'weighted avg       1.00      1.00      1.00        50\\n')\n"
     ]
    }
   ],
   "source": [
    "from sklearn.metrics import classification_report\n",
    "from pprint import PrettyPrinter\n",
    "classification_report = classification_report(y_test, y_pred)\n",
    "PrettyPrinter(sort_dicts=True).pprint(classification_report)"
   ]
  },
  {
   "cell_type": "code",
   "execution_count": 11,
   "metadata": {},
   "outputs": [
    {
     "name": "stdout",
     "output_type": "stream",
     "text": [
      "{ 'estimator': [ SVC(),\n",
      "                 SVC(),\n",
      "                 SVC(),\n",
      "                 SVC(),\n",
      "                 SVC(),\n",
      "                 SVC(),\n",
      "                 SVC(),\n",
      "                 SVC(),\n",
      "                 SVC(),\n",
      "                 SVC()],\n",
      "  'fit_time': array([0.00123286, 0.00073123, 0.00063086, 0.00055075, 0.00051928,\n",
      "       0.00106597, 0.00100565, 0.00062299, 0.00089407, 0.00045919]),\n",
      "  'score_time': array([0.00283909, 0.00190592, 0.0017693 , 0.00151706, 0.00594878,\n",
      "       0.00254512, 0.00204229, 0.00166202, 0.00137591, 0.00287485]),\n",
      "  'test_precision_macro': array([1.        , 1.        , 1.        , 0.83333333, 0.91666667,\n",
      "       1.        , 1.        , 1.        , 1.        , 0.91666667]),\n",
      "  'test_recall_macro': array([1.        , 1.        , 1.        , 0.75      , 0.91666667,\n",
      "       1.        , 1.        , 1.        , 1.        , 0.88888889])}\n"
     ]
    }
   ],
   "source": [
    "from sklearn.model_selection import cross_validate\n",
    "\n",
    "cross_val_scores = cross_validate(\n",
    "    SVC(),\n",
    "    X_train,\n",
    "    y_train,\n",
    "    cv=10,\n",
    "    scoring=[\"precision_macro\", \"recall_macro\"],\n",
    "    return_estimator=True\n",
    ")\n",
    "PrettyPrinter(indent=2, sort_dicts=True).pprint(cross_val_scores)"
   ]
  },
  {
   "cell_type": "markdown",
   "metadata": {},
   "source": [
    "# Here I use the grid search cv, I wanted to see wich model performs the best giving different combination of parameters, grid search cv train models with the different combination of parameters i give in * grid_params * and returns the best model."
   ]
  },
  {
   "cell_type": "code",
   "execution_count": 12,
   "metadata": {},
   "outputs": [
    {
     "name": "stdout",
     "output_type": "stream",
     "text": [
      "Fitting 5 folds for each of 288 candidates, totalling 1440 fits\n",
      "Best parameters based on accuracy: {'C': 1, 'coef0': 0.0, 'degree': 2, 'gamma': 'scale', 'kernel': 'linear'}\n"
     ]
    }
   ],
   "source": [
    "from sklearn.svm import SVC\n",
    "from sklearn.model_selection import GridSearchCV\n",
    "\n",
    "# Define the grid of hyperparameters\n",
    "grid_params = {\n",
    "    \"kernel\" : [\"linear\", \"poly\", \"rbf\", \"sigmoid\"],\n",
    "    \"degree\" : [2, 3, 4],\n",
    "    \"gamma\" : [\"scale\", \"auto\"],\n",
    "    \"coef0\" : [0.0, 0.1, 0.3, 0.5],\n",
    "    \"C\" : [1, 3, 0.5]\n",
    "}\n",
    "\n",
    "# Initialize GridSearchCV with accuracy as the scoring metric\n",
    "grid = GridSearchCV(\n",
    "    SVC(),\n",
    "    param_grid=grid_params,\n",
    "    scoring=\"accuracy\", \n",
    "    verbose=1,\n",
    "    error_score=0,\n",
    "    refit=True  \n",
    ")\n",
    "\n",
    "# Fit the model to the training data\n",
    "grid.fit(X_train, y_train)\n",
    "\n",
    "# Get the best parameters based on accuracy\n",
    "print(\"Best parameters based on accuracy:\", grid.best_params_)\n"
   ]
  },
  {
   "cell_type": "markdown",
   "metadata": {},
   "source": [
    "# i loaded all fits in cv_results so you can see them"
   ]
  },
  {
   "cell_type": "code",
   "execution_count": 13,
   "metadata": {},
   "outputs": [],
   "source": [
    "import pandas as pd\n",
    "cv_results = pd.DataFrame(grid.cv_results_).to_csv(\"/Users/mac/Desktop/intro_ML/tp_svm/cv_results.csv\")"
   ]
  },
  {
   "cell_type": "markdown",
   "metadata": {},
   "source": [
    "# Chronic Kidney desease classification using SVM"
   ]
  },
  {
   "cell_type": "code",
   "execution_count": 14,
   "metadata": {},
   "outputs": [],
   "source": [
    "import pandas as pd"
   ]
  },
  {
   "cell_type": "code",
   "execution_count": 15,
   "metadata": {},
   "outputs": [
    {
     "name": "stdout",
     "output_type": "stream",
     "text": [
      "<class 'pandas.core.frame.DataFrame'>\n",
      "Index: 400 entries, 0 to 399\n",
      "Data columns (total 25 columns):\n",
      " #   Column          Non-Null Count  Dtype  \n",
      "---  ------          --------------  -----  \n",
      " 0   age             391 non-null    float64\n",
      " 1   bp              388 non-null    float64\n",
      " 2   sg              353 non-null    float64\n",
      " 3   al              354 non-null    float64\n",
      " 4   su              351 non-null    float64\n",
      " 5   rbc             248 non-null    object \n",
      " 6   pc              335 non-null    object \n",
      " 7   pcc             396 non-null    object \n",
      " 8   ba              396 non-null    object \n",
      " 9   bgr             356 non-null    float64\n",
      " 10  bu              381 non-null    float64\n",
      " 11  sc              383 non-null    float64\n",
      " 12  sod             313 non-null    float64\n",
      " 13  pot             312 non-null    float64\n",
      " 14  hemo            348 non-null    float64\n",
      " 15  pcv             330 non-null    object \n",
      " 16  wc              295 non-null    object \n",
      " 17  rc              270 non-null    object \n",
      " 18  htn             398 non-null    object \n",
      " 19  dm              398 non-null    object \n",
      " 20  cad             398 non-null    object \n",
      " 21  appet           399 non-null    object \n",
      " 22  pe              399 non-null    object \n",
      " 23  ane             399 non-null    object \n",
      " 24  classification  400 non-null    object \n",
      "dtypes: float64(11), object(14)\n",
      "memory usage: 81.2+ KB\n",
      "None\n"
     ]
    },
    {
     "data": {
      "text/plain": [
       "['age',\n",
       " 'bp',\n",
       " 'sg',\n",
       " 'al',\n",
       " 'su',\n",
       " 'rbc',\n",
       " 'pc',\n",
       " 'pcc',\n",
       " 'ba',\n",
       " 'bgr',\n",
       " 'bu',\n",
       " 'sc',\n",
       " 'sod',\n",
       " 'pot',\n",
       " 'hemo',\n",
       " 'pcv',\n",
       " 'wc',\n",
       " 'rc',\n",
       " 'htn',\n",
       " 'dm',\n",
       " 'cad',\n",
       " 'appet',\n",
       " 'pe',\n",
       " 'ane',\n",
       " 'classification']"
      ]
     },
     "execution_count": 15,
     "metadata": {},
     "output_type": "execute_result"
    }
   ],
   "source": [
    "data_csv = pd.read_csv(\"data/ChronicKidneyDisease.csv\", index_col= \"id\")\n",
    "print(data_csv.info())\n",
    "data_csv.columns.to_list()"
   ]
  },
  {
   "cell_type": "code",
   "execution_count": 16,
   "metadata": {},
   "outputs": [
    {
     "name": "stdout",
     "output_type": "stream",
     "text": [
      "46709\n"
     ]
    }
   ],
   "source": [
    "# arff format load\n",
    "with open(\"data/chronic_kidney_disease/chronic_kidney_disease_full.arff\", 'r') as f:\n",
    "    file = f.read()\n",
    "print(len(file))\n"
   ]
  },
  {
   "cell_type": "code",
   "execution_count": 17,
   "metadata": {},
   "outputs": [],
   "source": [
    "from scipy.io.arff import loadarff"
   ]
  },
  {
   "cell_type": "code",
   "execution_count": 18,
   "metadata": {},
   "outputs": [
    {
     "name": "stdout",
     "output_type": "stream",
     "text": [
      "Dataset: Chronic_Kidney_Disease\n",
      "\tage's type is numeric\n",
      "\tbp's type is numeric\n",
      "\tsg's type is nominal, range is ('1.005', '1.010', '1.015', '1.020', '1.025')\n",
      "\tal's type is nominal, range is ('0', '1', '2', '3', '4', '5')\n",
      "\tsu's type is nominal, range is ('0', '1', '2', '3', '4', '5')\n",
      "\trbc's type is nominal, range is ('normal', 'abnormal')\n",
      "\tpc's type is nominal, range is ('normal', 'abnormal')\n",
      "\tpcc's type is nominal, range is ('present', 'notpresent')\n",
      "\tba's type is nominal, range is ('present', 'notpresent')\n",
      "\tbgr's type is numeric\n",
      "\tbu's type is numeric\n",
      "\tsc's type is numeric\n",
      "\tsod's type is numeric\n",
      "\tpot's type is numeric\n",
      "\themo's type is numeric\n",
      "\tpcv's type is numeric\n",
      "\twbcc's type is numeric\n",
      "\trbcc's type is numeric\n",
      "\thtn's type is nominal, range is ('yes', 'no')\n",
      "\tdm's type is nominal, range is ('yes', 'no')\n",
      "\tcad's type is nominal, range is ('yes', 'no')\n",
      "\tappet's type is nominal, range is ('good', 'poor')\n",
      "\tpe's type is nominal, range is ('yes', 'no')\n",
      "\tane's type is nominal, range is ('yes', 'no')\n",
      "\tclass's type is nominal, range is ('ckd', 'notckd')\n",
      "\n"
     ]
    }
   ],
   "source": [
    "data, meta_data = loadarff(\"data/chronic_kidney_disease/chronic_kidney_disease_full.arff\")\n",
    "print(meta_data)\n"
   ]
  },
  {
   "cell_type": "code",
   "execution_count": 19,
   "metadata": {},
   "outputs": [
    {
     "name": "stdout",
     "output_type": "stream",
     "text": [
      "<class 'pandas.core.frame.DataFrame'>\n",
      "RangeIndex: 400 entries, 0 to 399\n",
      "Data columns (total 25 columns):\n",
      " #   Column          Non-Null Count  Dtype  \n",
      "---  ------          --------------  -----  \n",
      " 0   age             391 non-null    float64\n",
      " 1   bp              388 non-null    float64\n",
      " 2   sg              400 non-null    object \n",
      " 3   al              400 non-null    object \n",
      " 4   su              400 non-null    object \n",
      " 5   rbc             400 non-null    object \n",
      " 6   pc              400 non-null    object \n",
      " 7   pcc             400 non-null    object \n",
      " 8   ba              400 non-null    object \n",
      " 9   bgr             356 non-null    float64\n",
      " 10  bu              381 non-null    float64\n",
      " 11  sc              383 non-null    float64\n",
      " 12  sod             313 non-null    float64\n",
      " 13  pot             312 non-null    float64\n",
      " 14  hemo            348 non-null    float64\n",
      " 15  pcv             329 non-null    float64\n",
      " 16  wc              0 non-null      object \n",
      " 17  rc              0 non-null      object \n",
      " 18  htn             400 non-null    object \n",
      " 19  dm              400 non-null    object \n",
      " 20  cad             400 non-null    object \n",
      " 21  appet           400 non-null    object \n",
      " 22  pe              400 non-null    object \n",
      " 23  ane             400 non-null    object \n",
      " 24  classification  0 non-null      object \n",
      "dtypes: float64(9), object(16)\n",
      "memory usage: 78.3+ KB\n",
      "None\n"
     ]
    },
    {
     "data": {
      "text/html": [
       "<div>\n",
       "<style scoped>\n",
       "    .dataframe tbody tr th:only-of-type {\n",
       "        vertical-align: middle;\n",
       "    }\n",
       "\n",
       "    .dataframe tbody tr th {\n",
       "        vertical-align: top;\n",
       "    }\n",
       "\n",
       "    .dataframe thead th {\n",
       "        text-align: right;\n",
       "    }\n",
       "</style>\n",
       "<table border=\"1\" class=\"dataframe\">\n",
       "  <thead>\n",
       "    <tr style=\"text-align: right;\">\n",
       "      <th></th>\n",
       "      <th>age</th>\n",
       "      <th>bp</th>\n",
       "      <th>sg</th>\n",
       "      <th>al</th>\n",
       "      <th>su</th>\n",
       "      <th>rbc</th>\n",
       "      <th>pc</th>\n",
       "      <th>pcc</th>\n",
       "      <th>ba</th>\n",
       "      <th>bgr</th>\n",
       "      <th>...</th>\n",
       "      <th>pcv</th>\n",
       "      <th>wc</th>\n",
       "      <th>rc</th>\n",
       "      <th>htn</th>\n",
       "      <th>dm</th>\n",
       "      <th>cad</th>\n",
       "      <th>appet</th>\n",
       "      <th>pe</th>\n",
       "      <th>ane</th>\n",
       "      <th>classification</th>\n",
       "    </tr>\n",
       "  </thead>\n",
       "  <tbody>\n",
       "    <tr>\n",
       "      <th>0</th>\n",
       "      <td>48.0</td>\n",
       "      <td>80.0</td>\n",
       "      <td>b'1.020'</td>\n",
       "      <td>b'1'</td>\n",
       "      <td>b'0'</td>\n",
       "      <td>b'?'</td>\n",
       "      <td>b'normal'</td>\n",
       "      <td>b'notpresent'</td>\n",
       "      <td>b'notpresent'</td>\n",
       "      <td>121.0</td>\n",
       "      <td>...</td>\n",
       "      <td>44.0</td>\n",
       "      <td>NaN</td>\n",
       "      <td>NaN</td>\n",
       "      <td>b'yes'</td>\n",
       "      <td>b'yes'</td>\n",
       "      <td>b'no'</td>\n",
       "      <td>b'good'</td>\n",
       "      <td>b'no'</td>\n",
       "      <td>b'no'</td>\n",
       "      <td>NaN</td>\n",
       "    </tr>\n",
       "    <tr>\n",
       "      <th>1</th>\n",
       "      <td>7.0</td>\n",
       "      <td>50.0</td>\n",
       "      <td>b'1.020'</td>\n",
       "      <td>b'4'</td>\n",
       "      <td>b'0'</td>\n",
       "      <td>b'?'</td>\n",
       "      <td>b'normal'</td>\n",
       "      <td>b'notpresent'</td>\n",
       "      <td>b'notpresent'</td>\n",
       "      <td>NaN</td>\n",
       "      <td>...</td>\n",
       "      <td>38.0</td>\n",
       "      <td>NaN</td>\n",
       "      <td>NaN</td>\n",
       "      <td>b'no'</td>\n",
       "      <td>b'no'</td>\n",
       "      <td>b'no'</td>\n",
       "      <td>b'good'</td>\n",
       "      <td>b'no'</td>\n",
       "      <td>b'no'</td>\n",
       "      <td>NaN</td>\n",
       "    </tr>\n",
       "    <tr>\n",
       "      <th>2</th>\n",
       "      <td>62.0</td>\n",
       "      <td>80.0</td>\n",
       "      <td>b'1.010'</td>\n",
       "      <td>b'2'</td>\n",
       "      <td>b'3'</td>\n",
       "      <td>b'normal'</td>\n",
       "      <td>b'normal'</td>\n",
       "      <td>b'notpresent'</td>\n",
       "      <td>b'notpresent'</td>\n",
       "      <td>423.0</td>\n",
       "      <td>...</td>\n",
       "      <td>31.0</td>\n",
       "      <td>NaN</td>\n",
       "      <td>NaN</td>\n",
       "      <td>b'no'</td>\n",
       "      <td>b'yes'</td>\n",
       "      <td>b'no'</td>\n",
       "      <td>b'poor'</td>\n",
       "      <td>b'no'</td>\n",
       "      <td>b'yes'</td>\n",
       "      <td>NaN</td>\n",
       "    </tr>\n",
       "    <tr>\n",
       "      <th>3</th>\n",
       "      <td>48.0</td>\n",
       "      <td>70.0</td>\n",
       "      <td>b'1.005'</td>\n",
       "      <td>b'4'</td>\n",
       "      <td>b'0'</td>\n",
       "      <td>b'normal'</td>\n",
       "      <td>b'abnormal'</td>\n",
       "      <td>b'present'</td>\n",
       "      <td>b'notpresent'</td>\n",
       "      <td>117.0</td>\n",
       "      <td>...</td>\n",
       "      <td>32.0</td>\n",
       "      <td>NaN</td>\n",
       "      <td>NaN</td>\n",
       "      <td>b'yes'</td>\n",
       "      <td>b'no'</td>\n",
       "      <td>b'no'</td>\n",
       "      <td>b'poor'</td>\n",
       "      <td>b'yes'</td>\n",
       "      <td>b'yes'</td>\n",
       "      <td>NaN</td>\n",
       "    </tr>\n",
       "    <tr>\n",
       "      <th>4</th>\n",
       "      <td>51.0</td>\n",
       "      <td>80.0</td>\n",
       "      <td>b'1.010'</td>\n",
       "      <td>b'2'</td>\n",
       "      <td>b'0'</td>\n",
       "      <td>b'normal'</td>\n",
       "      <td>b'normal'</td>\n",
       "      <td>b'notpresent'</td>\n",
       "      <td>b'notpresent'</td>\n",
       "      <td>106.0</td>\n",
       "      <td>...</td>\n",
       "      <td>35.0</td>\n",
       "      <td>NaN</td>\n",
       "      <td>NaN</td>\n",
       "      <td>b'no'</td>\n",
       "      <td>b'no'</td>\n",
       "      <td>b'no'</td>\n",
       "      <td>b'good'</td>\n",
       "      <td>b'no'</td>\n",
       "      <td>b'no'</td>\n",
       "      <td>NaN</td>\n",
       "    </tr>\n",
       "  </tbody>\n",
       "</table>\n",
       "<p>5 rows × 25 columns</p>\n",
       "</div>"
      ],
      "text/plain": [
       "    age    bp        sg    al    su        rbc           pc            pcc  \\\n",
       "0  48.0  80.0  b'1.020'  b'1'  b'0'       b'?'    b'normal'  b'notpresent'   \n",
       "1   7.0  50.0  b'1.020'  b'4'  b'0'       b'?'    b'normal'  b'notpresent'   \n",
       "2  62.0  80.0  b'1.010'  b'2'  b'3'  b'normal'    b'normal'  b'notpresent'   \n",
       "3  48.0  70.0  b'1.005'  b'4'  b'0'  b'normal'  b'abnormal'     b'present'   \n",
       "4  51.0  80.0  b'1.010'  b'2'  b'0'  b'normal'    b'normal'  b'notpresent'   \n",
       "\n",
       "              ba    bgr  ...   pcv   wc   rc     htn      dm    cad    appet  \\\n",
       "0  b'notpresent'  121.0  ...  44.0  NaN  NaN  b'yes'  b'yes'  b'no'  b'good'   \n",
       "1  b'notpresent'    NaN  ...  38.0  NaN  NaN   b'no'   b'no'  b'no'  b'good'   \n",
       "2  b'notpresent'  423.0  ...  31.0  NaN  NaN   b'no'  b'yes'  b'no'  b'poor'   \n",
       "3  b'notpresent'  117.0  ...  32.0  NaN  NaN  b'yes'   b'no'  b'no'  b'poor'   \n",
       "4  b'notpresent'  106.0  ...  35.0  NaN  NaN   b'no'   b'no'  b'no'  b'good'   \n",
       "\n",
       "       pe     ane classification  \n",
       "0   b'no'   b'no'            NaN  \n",
       "1   b'no'   b'no'            NaN  \n",
       "2   b'no'  b'yes'            NaN  \n",
       "3  b'yes'  b'yes'            NaN  \n",
       "4   b'no'   b'no'            NaN  \n",
       "\n",
       "[5 rows x 25 columns]"
      ]
     },
     "execution_count": 19,
     "metadata": {},
     "output_type": "execute_result"
    }
   ],
   "source": [
    "pd_data = pd.DataFrame(\n",
    "    data = data, \n",
    "    columns= [\n",
    "        'age',\n",
    "        'bp',\n",
    "        'sg',\n",
    "        'al',\n",
    "        'su',\n",
    "        'rbc',\n",
    "        'pc',\n",
    "        'pcc',\n",
    "        'ba',\n",
    "        'bgr',\n",
    "        'bu',\n",
    "        'sc',\n",
    "        'sod',\n",
    "        'pot',\n",
    "        'hemo',\n",
    "        'pcv',\n",
    "        'wc',\n",
    "        'rc',\n",
    "        'htn',\n",
    "        'dm',\n",
    "        'cad',\n",
    "        'appet',\n",
    "        'pe',\n",
    "        'ane',\n",
    "        'classification'])\n",
    "print(pd_data.info())\n",
    "pd_data.head()"
   ]
  },
  {
   "cell_type": "markdown",
   "metadata": {},
   "source": [
    "# ARFF Data has TWO columns filled with None Values, I will use csv"
   ]
  },
  {
   "cell_type": "code",
   "execution_count": 20,
   "metadata": {},
   "outputs": [],
   "source": [
    "# we will work with the csv file\n",
    "\n",
    "\n",
    "def wrangle(data : pd.DataFrame) :\n",
    "    \"\"\"cleans data before preprocessing\n",
    "\n",
    "    Args:\n",
    "        data (pd.DataFrame): input data frame\n",
    "\n",
    "    Returns:\n",
    "        pd.DataFrame : data cleaned and ready to feed to the preprocessor\n",
    "    \"\"\"\n",
    "    #decode String\n",
    "    clean_data = data.select_dtypes('object').apply(lambda col : col.astype(str).str.replace(r'\\t', '', regex=True))\n",
    "    clean_data = data.apply(pd.to_numeric, errors = \"ignore\")\n",
    "    #fill nan with np.nan (even they're handled the same way)\n",
    "    clean_data = clean_data.fillna(np.nan)\n",
    "    #fill nan values with the most found value\n",
    "    clean_data = clean_data.apply(lambda col : col.fillna(col.mode().iloc[0]))\n",
    "    \n",
    "    return clean_data\n",
    "\n",
    "data_clean = wrangle(data_csv)\n",
    "\n",
    "# X.select_dtypes(\"object\").apply(lambda col: col.nunique()) # some columns could not be trasnformed because some data is badly wirtten\n",
    "\n",
    "data_clean[['pcv', 'rc', 'wc']] = data_clean[['pcv', 'rc', 'wc']].apply(pd.to_numeric, errors=\"coerce\")\n",
    "data_clean.dropna(inplace=True)\n",
    "X = data_clean.drop(columns=['classification'])\n",
    "X[['dm', 'cad']] = X[['dm', 'cad']].apply(lambda col : col.astype(str).str.replace(r'\\t', '', regex=True).str.strip())\n",
    "y = data_clean['classification']\n",
    "\n",
    "y = y.replace({\"ckd\\t\" : \"ckd\"}) #y has the same class written with two different ways\n",
    "# y.unique()\n"
   ]
  },
  {
   "cell_type": "markdown",
   "metadata": {},
   "source": [
    "# I build a pipeline so that the model will be easy to predict with"
   ]
  },
  {
   "cell_type": "code",
   "execution_count": 21,
   "metadata": {},
   "outputs": [],
   "source": [
    "#scaling and one hot encoding\n",
    "from sklearn.compose import ColumnTransformer\n",
    "from sklearn.preprocessing import StandardScaler, OneHotEncoder\n",
    "\n",
    "categorical_columns = X.select_dtypes(\"object\").columns.to_list()\n",
    "numerical_columns = X.select_dtypes('number').drop(columns=['sg', 'al', 'su']).columns.to_list() # we drop them because even they're numerical they still stand for categories\n",
    "\n",
    "preprocessor = ColumnTransformer(\n",
    "    transformers = [\n",
    "        (\"onehotencoder\", OneHotEncoder(),  categorical_columns),\n",
    "        (\"standardscaler\", StandardScaler(), numerical_columns)\n",
    "    ]\n",
    ")"
   ]
  },
  {
   "cell_type": "code",
   "execution_count": 22,
   "metadata": {},
   "outputs": [],
   "source": [
    "from sklearn.pipeline import make_pipeline\n",
    "from sklearn.svm import SVC\n",
    "from sklearn.model_selection import GridSearchCV, StratifiedKFold\n",
    "from sklearn.metrics import make_scorer, recall_score, precision_score\n",
    "\n",
    "pipeline = make_pipeline(\n",
    "        preprocessor,\n",
    "        SVC()\n",
    ")\n",
    "param_grid = {\n",
    "    'svc__kernel': ['linear', 'poly', 'rbf', 'sigmoid'],  # Different kernels to test\n",
    "    'svc__C': [0.1, 1, 10],  # Regularization parameter\n",
    "    'svc__gamma': ['scale', 'auto', 0.1, 1]  # Gamma values (relevant for 'rbf' and 'poly')\n",
    "}\n",
    "scoring_metrics = {\n",
    "    'accuracy': 'accuracy',\n",
    "    'recall': make_scorer(recall_score, average='macro'),\n",
    "    'precision': make_scorer(precision_score, average='macro', zero_division=1)\n",
    "}\n",
    "\n",
    "#setting our grid search Cv \n",
    "grid_search = GridSearchCV(\n",
    "    estimator=pipeline,\n",
    "    param_grid=param_grid,\n",
    "    cv=StratifiedKFold(n_splits=5), \n",
    "    verbose=1,\n",
    "    scoring=scoring_metrics,\n",
    "    refit=\"accuracy\"\n",
    ")"
   ]
  },
  {
   "cell_type": "code",
   "execution_count": 23,
   "metadata": {},
   "outputs": [],
   "source": [
    "# split train test\n",
    "from sklearn.model_selection import train_test_split\n",
    "\n",
    "X_train, X_test, y_train, y_test = train_test_split(X,y, test_size=0.2, random_state=42)"
   ]
  },
  {
   "cell_type": "markdown",
   "metadata": {},
   "source": [
    "# Again i store the cross validation results according to each combination of parameters in param_grid. you can also see precision and recall for each fit"
   ]
  },
  {
   "cell_type": "code",
   "execution_count": 25,
   "metadata": {},
   "outputs": [
    {
     "name": "stdout",
     "output_type": "stream",
     "text": [
      "Fitting 5 folds for each of 48 candidates, totalling 240 fits\n"
     ]
    }
   ],
   "source": [
    "grid_search.fit(X_train, y_train)\n",
    "results = grid_search.cv_results_\n",
    "df_results = pd.DataFrame(results)\n",
    "df_results.to_csv(\"cv_results_Kidney.csv\")"
   ]
  },
  {
   "cell_type": "code",
   "execution_count": 27,
   "metadata": {},
   "outputs": [
    {
     "name": "stdout",
     "output_type": "stream",
     "text": [
      "the best model is {'svc__C': 0.1, 'svc__gamma': 0.1, 'svc__kernel': 'poly'}\n"
     ]
    }
   ],
   "source": [
    "print(\"the best model is\" ,grid_search.best_params_)"
   ]
  },
  {
   "cell_type": "markdown",
   "metadata": {},
   "source": [
    "## let's see how the model performs on the training data"
   ]
  },
  {
   "cell_type": "code",
   "execution_count": 29,
   "metadata": {},
   "outputs": [
    {
     "data": {
      "text/html": [
       "<style>#sk-container-id-2 {color: black;}#sk-container-id-2 pre{padding: 0;}#sk-container-id-2 div.sk-toggleable {background-color: white;}#sk-container-id-2 label.sk-toggleable__label {cursor: pointer;display: block;width: 100%;margin-bottom: 0;padding: 0.3em;box-sizing: border-box;text-align: center;}#sk-container-id-2 label.sk-toggleable__label-arrow:before {content: \"▸\";float: left;margin-right: 0.25em;color: #696969;}#sk-container-id-2 label.sk-toggleable__label-arrow:hover:before {color: black;}#sk-container-id-2 div.sk-estimator:hover label.sk-toggleable__label-arrow:before {color: black;}#sk-container-id-2 div.sk-toggleable__content {max-height: 0;max-width: 0;overflow: hidden;text-align: left;background-color: #f0f8ff;}#sk-container-id-2 div.sk-toggleable__content pre {margin: 0.2em;color: black;border-radius: 0.25em;background-color: #f0f8ff;}#sk-container-id-2 input.sk-toggleable__control:checked~div.sk-toggleable__content {max-height: 200px;max-width: 100%;overflow: auto;}#sk-container-id-2 input.sk-toggleable__control:checked~label.sk-toggleable__label-arrow:before {content: \"▾\";}#sk-container-id-2 div.sk-estimator input.sk-toggleable__control:checked~label.sk-toggleable__label {background-color: #d4ebff;}#sk-container-id-2 div.sk-label input.sk-toggleable__control:checked~label.sk-toggleable__label {background-color: #d4ebff;}#sk-container-id-2 input.sk-hidden--visually {border: 0;clip: rect(1px 1px 1px 1px);clip: rect(1px, 1px, 1px, 1px);height: 1px;margin: -1px;overflow: hidden;padding: 0;position: absolute;width: 1px;}#sk-container-id-2 div.sk-estimator {font-family: monospace;background-color: #f0f8ff;border: 1px dotted black;border-radius: 0.25em;box-sizing: border-box;margin-bottom: 0.5em;}#sk-container-id-2 div.sk-estimator:hover {background-color: #d4ebff;}#sk-container-id-2 div.sk-parallel-item::after {content: \"\";width: 100%;border-bottom: 1px solid gray;flex-grow: 1;}#sk-container-id-2 div.sk-label:hover label.sk-toggleable__label {background-color: #d4ebff;}#sk-container-id-2 div.sk-serial::before {content: \"\";position: absolute;border-left: 1px solid gray;box-sizing: border-box;top: 0;bottom: 0;left: 50%;z-index: 0;}#sk-container-id-2 div.sk-serial {display: flex;flex-direction: column;align-items: center;background-color: white;padding-right: 0.2em;padding-left: 0.2em;position: relative;}#sk-container-id-2 div.sk-item {position: relative;z-index: 1;}#sk-container-id-2 div.sk-parallel {display: flex;align-items: stretch;justify-content: center;background-color: white;position: relative;}#sk-container-id-2 div.sk-item::before, #sk-container-id-2 div.sk-parallel-item::before {content: \"\";position: absolute;border-left: 1px solid gray;box-sizing: border-box;top: 0;bottom: 0;left: 50%;z-index: -1;}#sk-container-id-2 div.sk-parallel-item {display: flex;flex-direction: column;z-index: 1;position: relative;background-color: white;}#sk-container-id-2 div.sk-parallel-item:first-child::after {align-self: flex-end;width: 50%;}#sk-container-id-2 div.sk-parallel-item:last-child::after {align-self: flex-start;width: 50%;}#sk-container-id-2 div.sk-parallel-item:only-child::after {width: 0;}#sk-container-id-2 div.sk-dashed-wrapped {border: 1px dashed gray;margin: 0 0.4em 0.5em 0.4em;box-sizing: border-box;padding-bottom: 0.4em;background-color: white;}#sk-container-id-2 div.sk-label label {font-family: monospace;font-weight: bold;display: inline-block;line-height: 1.2em;}#sk-container-id-2 div.sk-label-container {text-align: center;}#sk-container-id-2 div.sk-container {/* jupyter's `normalize.less` sets `[hidden] { display: none; }` but bootstrap.min.css set `[hidden] { display: none !important; }` so we also need the `!important` here to be able to override the default hidden behavior on the sphinx rendered scikit-learn.org. See: https://github.com/scikit-learn/scikit-learn/issues/21755 */display: inline-block !important;position: relative;}#sk-container-id-2 div.sk-text-repr-fallback {display: none;}</style><div id=\"sk-container-id-2\" class=\"sk-top-container\"><div class=\"sk-text-repr-fallback\"><pre>Pipeline(steps=[(&#x27;columntransformer&#x27;,\n",
       "                 ColumnTransformer(transformers=[(&#x27;onehotencoder&#x27;,\n",
       "                                                  OneHotEncoder(),\n",
       "                                                  [&#x27;rbc&#x27;, &#x27;pc&#x27;, &#x27;pcc&#x27;, &#x27;ba&#x27;,\n",
       "                                                   &#x27;htn&#x27;, &#x27;dm&#x27;, &#x27;cad&#x27;, &#x27;appet&#x27;,\n",
       "                                                   &#x27;pe&#x27;, &#x27;ane&#x27;]),\n",
       "                                                 (&#x27;standardscaler&#x27;,\n",
       "                                                  StandardScaler(),\n",
       "                                                  [&#x27;age&#x27;, &#x27;bp&#x27;, &#x27;bgr&#x27;, &#x27;bu&#x27;,\n",
       "                                                   &#x27;sc&#x27;, &#x27;sod&#x27;, &#x27;pot&#x27;, &#x27;hemo&#x27;,\n",
       "                                                   &#x27;pcv&#x27;, &#x27;wc&#x27;, &#x27;rc&#x27;])])),\n",
       "                (&#x27;svc&#x27;, SVC(C=0.1, gamma=0.1, kernel=&#x27;poly&#x27;))])</pre><b>In a Jupyter environment, please rerun this cell to show the HTML representation or trust the notebook. <br />On GitHub, the HTML representation is unable to render, please try loading this page with nbviewer.org.</b></div><div class=\"sk-container\" hidden><div class=\"sk-item sk-dashed-wrapped\"><div class=\"sk-label-container\"><div class=\"sk-label sk-toggleable\"><input class=\"sk-toggleable__control sk-hidden--visually\" id=\"sk-estimator-id-2\" type=\"checkbox\" ><label for=\"sk-estimator-id-2\" class=\"sk-toggleable__label sk-toggleable__label-arrow\">Pipeline</label><div class=\"sk-toggleable__content\"><pre>Pipeline(steps=[(&#x27;columntransformer&#x27;,\n",
       "                 ColumnTransformer(transformers=[(&#x27;onehotencoder&#x27;,\n",
       "                                                  OneHotEncoder(),\n",
       "                                                  [&#x27;rbc&#x27;, &#x27;pc&#x27;, &#x27;pcc&#x27;, &#x27;ba&#x27;,\n",
       "                                                   &#x27;htn&#x27;, &#x27;dm&#x27;, &#x27;cad&#x27;, &#x27;appet&#x27;,\n",
       "                                                   &#x27;pe&#x27;, &#x27;ane&#x27;]),\n",
       "                                                 (&#x27;standardscaler&#x27;,\n",
       "                                                  StandardScaler(),\n",
       "                                                  [&#x27;age&#x27;, &#x27;bp&#x27;, &#x27;bgr&#x27;, &#x27;bu&#x27;,\n",
       "                                                   &#x27;sc&#x27;, &#x27;sod&#x27;, &#x27;pot&#x27;, &#x27;hemo&#x27;,\n",
       "                                                   &#x27;pcv&#x27;, &#x27;wc&#x27;, &#x27;rc&#x27;])])),\n",
       "                (&#x27;svc&#x27;, SVC(C=0.1, gamma=0.1, kernel=&#x27;poly&#x27;))])</pre></div></div></div><div class=\"sk-serial\"><div class=\"sk-item sk-dashed-wrapped\"><div class=\"sk-label-container\"><div class=\"sk-label sk-toggleable\"><input class=\"sk-toggleable__control sk-hidden--visually\" id=\"sk-estimator-id-3\" type=\"checkbox\" ><label for=\"sk-estimator-id-3\" class=\"sk-toggleable__label sk-toggleable__label-arrow\">columntransformer: ColumnTransformer</label><div class=\"sk-toggleable__content\"><pre>ColumnTransformer(transformers=[(&#x27;onehotencoder&#x27;, OneHotEncoder(),\n",
       "                                 [&#x27;rbc&#x27;, &#x27;pc&#x27;, &#x27;pcc&#x27;, &#x27;ba&#x27;, &#x27;htn&#x27;, &#x27;dm&#x27;, &#x27;cad&#x27;,\n",
       "                                  &#x27;appet&#x27;, &#x27;pe&#x27;, &#x27;ane&#x27;]),\n",
       "                                (&#x27;standardscaler&#x27;, StandardScaler(),\n",
       "                                 [&#x27;age&#x27;, &#x27;bp&#x27;, &#x27;bgr&#x27;, &#x27;bu&#x27;, &#x27;sc&#x27;, &#x27;sod&#x27;, &#x27;pot&#x27;,\n",
       "                                  &#x27;hemo&#x27;, &#x27;pcv&#x27;, &#x27;wc&#x27;, &#x27;rc&#x27;])])</pre></div></div></div><div class=\"sk-parallel\"><div class=\"sk-parallel-item\"><div class=\"sk-item\"><div class=\"sk-label-container\"><div class=\"sk-label sk-toggleable\"><input class=\"sk-toggleable__control sk-hidden--visually\" id=\"sk-estimator-id-4\" type=\"checkbox\" ><label for=\"sk-estimator-id-4\" class=\"sk-toggleable__label sk-toggleable__label-arrow\">onehotencoder</label><div class=\"sk-toggleable__content\"><pre>[&#x27;rbc&#x27;, &#x27;pc&#x27;, &#x27;pcc&#x27;, &#x27;ba&#x27;, &#x27;htn&#x27;, &#x27;dm&#x27;, &#x27;cad&#x27;, &#x27;appet&#x27;, &#x27;pe&#x27;, &#x27;ane&#x27;]</pre></div></div></div><div class=\"sk-serial\"><div class=\"sk-item\"><div class=\"sk-estimator sk-toggleable\"><input class=\"sk-toggleable__control sk-hidden--visually\" id=\"sk-estimator-id-5\" type=\"checkbox\" ><label for=\"sk-estimator-id-5\" class=\"sk-toggleable__label sk-toggleable__label-arrow\">OneHotEncoder</label><div class=\"sk-toggleable__content\"><pre>OneHotEncoder()</pre></div></div></div></div></div></div><div class=\"sk-parallel-item\"><div class=\"sk-item\"><div class=\"sk-label-container\"><div class=\"sk-label sk-toggleable\"><input class=\"sk-toggleable__control sk-hidden--visually\" id=\"sk-estimator-id-6\" type=\"checkbox\" ><label for=\"sk-estimator-id-6\" class=\"sk-toggleable__label sk-toggleable__label-arrow\">standardscaler</label><div class=\"sk-toggleable__content\"><pre>[&#x27;age&#x27;, &#x27;bp&#x27;, &#x27;bgr&#x27;, &#x27;bu&#x27;, &#x27;sc&#x27;, &#x27;sod&#x27;, &#x27;pot&#x27;, &#x27;hemo&#x27;, &#x27;pcv&#x27;, &#x27;wc&#x27;, &#x27;rc&#x27;]</pre></div></div></div><div class=\"sk-serial\"><div class=\"sk-item\"><div class=\"sk-estimator sk-toggleable\"><input class=\"sk-toggleable__control sk-hidden--visually\" id=\"sk-estimator-id-7\" type=\"checkbox\" ><label for=\"sk-estimator-id-7\" class=\"sk-toggleable__label sk-toggleable__label-arrow\">StandardScaler</label><div class=\"sk-toggleable__content\"><pre>StandardScaler()</pre></div></div></div></div></div></div></div></div><div class=\"sk-item\"><div class=\"sk-estimator sk-toggleable\"><input class=\"sk-toggleable__control sk-hidden--visually\" id=\"sk-estimator-id-8\" type=\"checkbox\" ><label for=\"sk-estimator-id-8\" class=\"sk-toggleable__label sk-toggleable__label-arrow\">SVC</label><div class=\"sk-toggleable__content\"><pre>SVC(C=0.1, gamma=0.1, kernel=&#x27;poly&#x27;)</pre></div></div></div></div></div></div></div>"
      ],
      "text/plain": [
       "Pipeline(steps=[('columntransformer',\n",
       "                 ColumnTransformer(transformers=[('onehotencoder',\n",
       "                                                  OneHotEncoder(),\n",
       "                                                  ['rbc', 'pc', 'pcc', 'ba',\n",
       "                                                   'htn', 'dm', 'cad', 'appet',\n",
       "                                                   'pe', 'ane']),\n",
       "                                                 ('standardscaler',\n",
       "                                                  StandardScaler(),\n",
       "                                                  ['age', 'bp', 'bgr', 'bu',\n",
       "                                                   'sc', 'sod', 'pot', 'hemo',\n",
       "                                                   'pcv', 'wc', 'rc'])])),\n",
       "                ('svc', SVC(C=0.1, gamma=0.1, kernel='poly'))])"
      ]
     },
     "execution_count": 29,
     "metadata": {},
     "output_type": "execute_result"
    }
   ],
   "source": [
    "best_model = grid_search.best_estimator_\n",
    "best_model"
   ]
  },
  {
   "cell_type": "code",
   "execution_count": 31,
   "metadata": {},
   "outputs": [
    {
     "name": "stdout",
     "output_type": "stream",
     "text": [
      "('              precision    recall  f1-score   support\\n'\n",
      " '\\n'\n",
      " '         ckd       1.00      0.92      0.96        50\\n'\n",
      " '      notckd       0.88      1.00      0.94        30\\n'\n",
      " '\\n'\n",
      " '    accuracy                           0.95        80\\n'\n",
      " '   macro avg       0.94      0.96      0.95        80\\n'\n",
      " 'weighted avg       0.96      0.95      0.95        80\\n')\n"
     ]
    }
   ],
   "source": [
    "from sklearn.metrics import classification_report\n",
    "from pprint import PrettyPrinter\n",
    "\n",
    "y_pred = best_model.predict(X_test)\n",
    "report = classification_report(y_test, y_pred)\n",
    "\n",
    "PrettyPrinter().pprint(report)"
   ]
  },
  {
   "cell_type": "markdown",
   "metadata": {},
   "source": [
    "# My Model is convincing the accuracy is really good, precision is also good. but good be better a way to make it better is to use over sampling over not sdk class"
   ]
  }
 ],
 "metadata": {
  "kernelspec": {
   "display_name": "myenv",
   "language": "python",
   "name": "python3"
  },
  "language_info": {
   "codemirror_mode": {
    "name": "ipython",
    "version": 3
   },
   "file_extension": ".py",
   "mimetype": "text/x-python",
   "name": "python",
   "nbconvert_exporter": "python",
   "pygments_lexer": "ipython3",
   "version": "3.11.5"
  }
 },
 "nbformat": 4,
 "nbformat_minor": 2
}
